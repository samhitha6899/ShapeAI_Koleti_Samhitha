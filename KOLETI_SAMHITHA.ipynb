{
  "nbformat": 4,
  "nbformat_minor": 0,
  "metadata": {
    "colab": {
      "name": "KOLETI_SAMHITHA.ipynb",
      "provenance": []
    },
    "kernelspec": {
      "name": "python3",
      "display_name": "Python 3"
    },
    "language_info": {
      "name": "python"
    }
  },
  "cells": [
    {
      "cell_type": "code",
      "metadata": {
        "id": "yORUwF2FJbyC"
      },
      "source": [
        "from keras.datasets import mnist\n",
        "\n",
        "data=mnist.load_data()"
      ],
      "execution_count": 35,
      "outputs": []
    },
    {
      "cell_type": "code",
      "metadata": {
        "id": "I25wPfLeObHi"
      },
      "source": [
        "((x_train,y_train),(x_test,y_test))=data"
      ],
      "execution_count": 36,
      "outputs": []
    },
    {
      "cell_type": "code",
      "metadata": {
        "colab": {
          "base_uri": "https://localhost:8080/"
        },
        "id": "WnNUAZjMQ2Q1",
        "outputId": "bd8a3ca4-a59c-478c-83f8-f697ca474370"
      },
      "source": [
        "x_train[0].shape\n",
        "x_test[0].shape"
      ],
      "execution_count": 37,
      "outputs": [
        {
          "output_type": "execute_result",
          "data": {
            "text/plain": [
              "(28, 28)"
            ]
          },
          "metadata": {
            "tags": []
          },
          "execution_count": 37
        }
      ]
    },
    {
      "cell_type": "code",
      "metadata": {
        "id": "bzQfsa_pPS8F"
      },
      "source": [
        "x_train=x_train.reshape((x_train.shape[0],28*28)).astype('float32')\n",
        "x_test=x_test.reshape((x_test.shape[0],28*28)).astype('float32')"
      ],
      "execution_count": 38,
      "outputs": []
    },
    {
      "cell_type": "code",
      "metadata": {
        "id": "aRIuNGW1RVuw"
      },
      "source": [
        "x_train=x_train/255\n",
        "x_test=x_test/255"
      ],
      "execution_count": 39,
      "outputs": []
    },
    {
      "cell_type": "code",
      "metadata": {
        "colab": {
          "base_uri": "https://localhost:8080/"
        },
        "id": "L1D3VoV9VNlM",
        "outputId": "81ffcf4a-bcbf-4c6a-a09c-9a6c178611d7"
      },
      "source": [
        "from keras.utils import np_utils\n",
        "\n",
        "print(y_test.shape)\n",
        "\n",
        "y_train = np_utils.to_categorical(y_train)\n",
        "y_test = np_utils.to_categorical(y_test)\n",
        " \n",
        "num_classes = y_test.shape\n",
        "\n",
        "print(y_test.shape)\n",
        "\n",
        "\n"
      ],
      "execution_count": 40,
      "outputs": [
        {
          "output_type": "stream",
          "text": [
            "(10000,)\n",
            "(10000, 10)\n"
          ],
          "name": "stdout"
        }
      ]
    },
    {
      "cell_type": "code",
      "metadata": {
        "id": "js-lKQQ2XCZA"
      },
      "source": [
        "from keras.models import Sequential\n",
        "from keras.layers import Dense"
      ],
      "execution_count": 27,
      "outputs": []
    },
    {
      "cell_type": "code",
      "metadata": {
        "id": "03MutUvmXdQF"
      },
      "source": [
        "model = Sequential()\n",
        "\n",
        "model.add(Dense(32, input_dim=28*28,activation='relu'))\n",
        "model.add(Dense(64,activation='relu'))\n",
        " \n",
        "model.add(Dense(10,activation='softmax'))"
      ],
      "execution_count": 41,
      "outputs": []
    },
    {
      "cell_type": "code",
      "metadata": {
        "id": "-8yRnYc6Yvlc"
      },
      "source": [
        "model.compile(loss='categorical_crossentropy',optimizer='adam',metrics=['accuracy'])"
      ],
      "execution_count": 42,
      "outputs": []
    },
    {
      "cell_type": "code",
      "metadata": {
        "colab": {
          "base_uri": "https://localhost:8080/"
        },
        "id": "d4cEl1_mZck1",
        "outputId": "d4ca7627-f7c3-434b-cf0a-47be25640b86"
      },
      "source": [
        "model.summary()"
      ],
      "execution_count": 43,
      "outputs": [
        {
          "output_type": "stream",
          "text": [
            "Model: \"sequential_1\"\n",
            "_________________________________________________________________\n",
            "Layer (type)                 Output Shape              Param #   \n",
            "=================================================================\n",
            "dense_3 (Dense)              (None, 32)                25120     \n",
            "_________________________________________________________________\n",
            "dense_4 (Dense)              (None, 64)                2112      \n",
            "_________________________________________________________________\n",
            "dense_5 (Dense)              (None, 10)                650       \n",
            "=================================================================\n",
            "Total params: 27,882\n",
            "Trainable params: 27,882\n",
            "Non-trainable params: 0\n",
            "_________________________________________________________________\n"
          ],
          "name": "stdout"
        }
      ]
    },
    {
      "cell_type": "code",
      "metadata": {
        "colab": {
          "base_uri": "https://localhost:8080/"
        },
        "id": "b_bpuXxsZltv",
        "outputId": "23dd1f55-0db3-4bec-a684-1bffa6978b62"
      },
      "source": [
        "model.fit(x_train,y_train,epochs=20,batch_size=50)"
      ],
      "execution_count": 33,
      "outputs": [
        {
          "output_type": "stream",
          "text": [
            "Epoch 1/20\n",
            "1200/1200 [==============================] - 2s 2ms/step - loss: 0.6109 - accuracy: 0.8185\n",
            "Epoch 2/20\n",
            "1200/1200 [==============================] - 2s 2ms/step - loss: 0.1768 - accuracy: 0.9469\n",
            "Epoch 3/20\n",
            "1200/1200 [==============================] - 2s 2ms/step - loss: 0.1309 - accuracy: 0.9613\n",
            "Epoch 4/20\n",
            "1200/1200 [==============================] - 2s 2ms/step - loss: 0.1100 - accuracy: 0.9663\n",
            "Epoch 5/20\n",
            "1200/1200 [==============================] - 2s 2ms/step - loss: 0.0916 - accuracy: 0.9719\n",
            "Epoch 6/20\n",
            "1200/1200 [==============================] - 2s 2ms/step - loss: 0.0786 - accuracy: 0.9754\n",
            "Epoch 7/20\n",
            "1200/1200 [==============================] - 2s 2ms/step - loss: 0.0706 - accuracy: 0.9777\n",
            "Epoch 8/20\n",
            "1200/1200 [==============================] - 2s 2ms/step - loss: 0.0637 - accuracy: 0.9801\n",
            "Epoch 9/20\n",
            "1200/1200 [==============================] - 2s 2ms/step - loss: 0.0595 - accuracy: 0.9818\n",
            "Epoch 10/20\n",
            "1200/1200 [==============================] - 2s 2ms/step - loss: 0.0513 - accuracy: 0.9843\n",
            "Epoch 11/20\n",
            "1200/1200 [==============================] - 2s 2ms/step - loss: 0.0467 - accuracy: 0.9851\n",
            "Epoch 12/20\n",
            "1200/1200 [==============================] - 2s 2ms/step - loss: 0.0404 - accuracy: 0.9869\n",
            "Epoch 13/20\n",
            "1200/1200 [==============================] - 2s 2ms/step - loss: 0.0372 - accuracy: 0.9888\n",
            "Epoch 14/20\n",
            "1200/1200 [==============================] - 2s 2ms/step - loss: 0.0347 - accuracy: 0.9890\n",
            "Epoch 15/20\n",
            "1200/1200 [==============================] - 2s 2ms/step - loss: 0.0318 - accuracy: 0.9900\n",
            "Epoch 16/20\n",
            "1200/1200 [==============================] - 2s 2ms/step - loss: 0.0319 - accuracy: 0.9897\n",
            "Epoch 17/20\n",
            "1200/1200 [==============================] - 2s 2ms/step - loss: 0.0252 - accuracy: 0.9919\n",
            "Epoch 18/20\n",
            "1200/1200 [==============================] - 2s 2ms/step - loss: 0.0261 - accuracy: 0.9918\n",
            "Epoch 19/20\n",
            "1200/1200 [==============================] - 2s 2ms/step - loss: 0.0227 - accuracy: 0.9931\n",
            "Epoch 20/20\n",
            "1200/1200 [==============================] - 2s 2ms/step - loss: 0.0240 - accuracy: 0.9913\n"
          ],
          "name": "stdout"
        },
        {
          "output_type": "execute_result",
          "data": {
            "text/plain": [
              "<tensorflow.python.keras.callbacks.History at 0x7f19b114d350>"
            ]
          },
          "metadata": {
            "tags": []
          },
          "execution_count": 33
        }
      ]
    },
    {
      "cell_type": "code",
      "metadata": {
        "colab": {
          "base_uri": "https://localhost:8080/"
        },
        "id": "dL3IMI-naSUr",
        "outputId": "4ae79805-1083-45c9-816d-7c84a6c019a1"
      },
      "source": [
        "scores = model.evaluate(x_test,y_test)\n",
        "print(scores)"
      ],
      "execution_count": 34,
      "outputs": [
        {
          "output_type": "stream",
          "text": [
            "313/313 [==============================] - 0s 1ms/step - loss: 0.1190 - accuracy: 0.9722\n",
            "[0.1190391480922699, 0.9721999764442444]\n"
          ],
          "name": "stdout"
        }
      ]
    }
  ]
}